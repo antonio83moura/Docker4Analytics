{
 "cells": [
  {
   "cell_type": "code",
   "execution_count": 2,
   "id": "895dc250",
   "metadata": {},
   "outputs": [],
   "source": [
    "import pandas as pd"
   ]
  },
  {
   "cell_type": "code",
   "execution_count": 18,
   "id": "e689c51a",
   "metadata": {},
   "outputs": [],
   "source": [
    "df = pd.DataFrame({\n",
    "    \"account_number\": [123, 234, 345, 456, 567, 789],\n",
    "    \"name\": [\"Jeff\", \"Maria\", \"Carl\", \"Rick\", \"Tina\", \"Martha\"],\n",
    "    \"balance\": [20, 30, 33.2, 50, 10, 7]\n",
    "})"
   ]
  },
  {
   "cell_type": "code",
   "execution_count": 20,
   "id": "1400aab3",
   "metadata": {},
   "outputs": [
    {
     "data": {
      "text/plain": [
       "count     6.000000\n",
       "mean     25.033333\n",
       "std      16.070055\n",
       "min       7.000000\n",
       "25%      12.500000\n",
       "50%      25.000000\n",
       "75%      32.400000\n",
       "max      50.000000\n",
       "Name: balance, dtype: float64"
      ]
     },
     "execution_count": 20,
     "metadata": {},
     "output_type": "execute_result"
    }
   ],
   "source": [
    "df['balance'].describe()"
   ]
  }
 ],
 "metadata": {
  "kernelspec": {
   "display_name": "Python 3 (ipykernel)",
   "language": "python",
   "name": "python3"
  },
  "language_info": {
   "codemirror_mode": {
    "name": "ipython",
    "version": 3
   },
   "file_extension": ".py",
   "mimetype": "text/x-python",
   "name": "python",
   "nbconvert_exporter": "python",
   "pygments_lexer": "ipython3",
   "version": "3.9.7"
  }
 },
 "nbformat": 4,
 "nbformat_minor": 5
}
